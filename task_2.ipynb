{
  "nbformat": 4,
  "nbformat_minor": 0,
  "metadata": {
    "colab": {
      "name": "task_2",
      "provenance": [],
      "authorship_tag": "ABX9TyMmrXKBS77Fr9abPiBb05Wn",
      "include_colab_link": true
    },
    "kernelspec": {
      "name": "python3",
      "display_name": "Python 3"
    },
    "language_info": {
      "name": "python"
    }
  },
  "cells": [
    {
      "cell_type": "markdown",
      "metadata": {
        "id": "view-in-github",
        "colab_type": "text"
      },
      "source": [
        "<a href=\"https://colab.research.google.com/github/anitaannah/iris_dataset/blob/main/task_2.ipynb\" target=\"_parent\"><img src=\"https://colab.research.google.com/assets/colab-badge.svg\" alt=\"Open In Colab\"/></a>"
      ]
    },
    {
      "cell_type": "markdown",
      "metadata": {
        "id": "TYwJqg2Ys2Ui"
      },
      "source": [
        "# **GRIP MAY'21**"
      ]
    },
    {
      "cell_type": "markdown",
      "metadata": {
        "id": "N36jY9NTtKfQ"
      },
      "source": [
        "## **Author : Anita Tomy**"
      ]
    },
    {
      "cell_type": "markdown",
      "metadata": {
        "id": "zsd1yWT9tPEP"
      },
      "source": [
        "**TASK 2: Prediction using Unsupervised ML**"
      ]
    },
    {
      "cell_type": "markdown",
      "metadata": {
        "id": "62N551H-tohU"
      },
      "source": [
        "### From the given iris dataset, predict the optimum number of clusters and represent it visually. The iris dataset consists of 4 features (sepal length and width, petal length and width) and 3 species of iris (setosa, versicolor and virginica)\n",
        "\n",
        "**We will use K-Means Clustering Algorithm for this task**."
      ]
    },
    {
      "cell_type": "markdown",
      "metadata": {
        "id": "4taSjkB6t59A"
      },
      "source": [
        "**Importing the libraries**\n",
        "\n",
        "\n",
        "\n",
        "\n"
      ]
    },
    {
      "cell_type": "code",
      "metadata": {
        "id": "mu3m2TszuIQ_"
      },
      "source": [
        "import numpy as np\n",
        "import matplotlib.pyplot as plt\n",
        "import pandas as pd"
      ],
      "execution_count": 1,
      "outputs": []
    },
    {
      "cell_type": "markdown",
      "metadata": {
        "id": "lMaYtISfuM-A"
      },
      "source": [
        "**Loading the given dataset**"
      ]
    },
    {
      "cell_type": "code",
      "metadata": {
        "id": "uv8eKDLNvZJg"
      },
      "source": [
        "from sklearn.datasets import load_iris\n",
        "iris_data = load_iris()\n",
        "iris_data"
      ],
      "execution_count": null,
      "outputs": []
    },
    {
      "cell_type": "markdown",
      "metadata": {
        "id": "MIU4Lg9gvvrR"
      },
      "source": [
        "**Converting the dataset into rows and columns**"
      ]
    },
    {
      "cell_type": "code",
      "metadata": {
        "colab": {
          "base_uri": "https://localhost:8080/",
          "height": 195
        },
        "id": "Y-me0B0-v8WY",
        "outputId": "ba3b4056-8703-46ac-bb6f-16dca025d447"
      },
      "source": [
        "iris = pd.DataFrame(dataset.data, columns = dataset.feature_names)\n",
        "iris.head()"
      ],
      "execution_count": 7,
      "outputs": [
        {
          "output_type": "execute_result",
          "data": {
            "text/html": [
              "<div>\n",
              "<style scoped>\n",
              "    .dataframe tbody tr th:only-of-type {\n",
              "        vertical-align: middle;\n",
              "    }\n",
              "\n",
              "    .dataframe tbody tr th {\n",
              "        vertical-align: top;\n",
              "    }\n",
              "\n",
              "    .dataframe thead th {\n",
              "        text-align: right;\n",
              "    }\n",
              "</style>\n",
              "<table border=\"1\" class=\"dataframe\">\n",
              "  <thead>\n",
              "    <tr style=\"text-align: right;\">\n",
              "      <th></th>\n",
              "      <th>sepal length (cm)</th>\n",
              "      <th>sepal width (cm)</th>\n",
              "      <th>petal length (cm)</th>\n",
              "      <th>petal width (cm)</th>\n",
              "    </tr>\n",
              "  </thead>\n",
              "  <tbody>\n",
              "    <tr>\n",
              "      <th>0</th>\n",
              "      <td>5.1</td>\n",
              "      <td>3.5</td>\n",
              "      <td>1.4</td>\n",
              "      <td>0.2</td>\n",
              "    </tr>\n",
              "    <tr>\n",
              "      <th>1</th>\n",
              "      <td>4.9</td>\n",
              "      <td>3.0</td>\n",
              "      <td>1.4</td>\n",
              "      <td>0.2</td>\n",
              "    </tr>\n",
              "    <tr>\n",
              "      <th>2</th>\n",
              "      <td>4.7</td>\n",
              "      <td>3.2</td>\n",
              "      <td>1.3</td>\n",
              "      <td>0.2</td>\n",
              "    </tr>\n",
              "    <tr>\n",
              "      <th>3</th>\n",
              "      <td>4.6</td>\n",
              "      <td>3.1</td>\n",
              "      <td>1.5</td>\n",
              "      <td>0.2</td>\n",
              "    </tr>\n",
              "    <tr>\n",
              "      <th>4</th>\n",
              "      <td>5.0</td>\n",
              "      <td>3.6</td>\n",
              "      <td>1.4</td>\n",
              "      <td>0.2</td>\n",
              "    </tr>\n",
              "  </tbody>\n",
              "</table>\n",
              "</div>"
            ],
            "text/plain": [
              "   sepal length (cm)  sepal width (cm)  petal length (cm)  petal width (cm)\n",
              "0                5.1               3.5                1.4               0.2\n",
              "1                4.9               3.0                1.4               0.2\n",
              "2                4.7               3.2                1.3               0.2\n",
              "3                4.6               3.1                1.5               0.2\n",
              "4                5.0               3.6                1.4               0.2"
            ]
          },
          "metadata": {
            "tags": []
          },
          "execution_count": 7
        }
      ]
    },
    {
      "cell_type": "code",
      "metadata": {
        "colab": {
          "base_uri": "https://localhost:8080/"
        },
        "id": "YQ6m_cYXwLJf",
        "outputId": "9b6df7c5-2e55-4f13-86f3-f1f3eb440e96"
      },
      "source": [
        "#total number of rows and columns\n",
        "iris.shape"
      ],
      "execution_count": 8,
      "outputs": [
        {
          "output_type": "execute_result",
          "data": {
            "text/plain": [
              "(150, 4)"
            ]
          },
          "metadata": {
            "tags": []
          },
          "execution_count": 8
        }
      ]
    },
    {
      "cell_type": "code",
      "metadata": {
        "colab": {
          "base_uri": "https://localhost:8080/"
        },
        "id": "48avu170whZZ",
        "outputId": "4390a102-4351-4a2a-d7d6-490546c45bc1"
      },
      "source": [
        "# checking for null values\n",
        "iris.isnull().sum()"
      ],
      "execution_count": 9,
      "outputs": [
        {
          "output_type": "execute_result",
          "data": {
            "text/plain": [
              "sepal length (cm)    0\n",
              "sepal width (cm)     0\n",
              "petal length (cm)    0\n",
              "petal width (cm)     0\n",
              "dtype: int64"
            ]
          },
          "metadata": {
            "tags": []
          },
          "execution_count": 9
        }
      ]
    },
    {
      "cell_type": "code",
      "metadata": {
        "id": "IPkMBWTRwrhg"
      },
      "source": [
        "x=iris_data.data \n",
        "y=iris_data.target\n"
      ],
      "execution_count": 10,
      "outputs": []
    },
    {
      "cell_type": "markdown",
      "metadata": {
        "id": "VceXmTfGw5dx"
      },
      "source": [
        "**Data Visualization**"
      ]
    },
    {
      "cell_type": "code",
      "metadata": {
        "colab": {
          "base_uri": "https://localhost:8080/",
          "height": 282
        },
        "id": "sXuXtyGAwyaY",
        "outputId": "116e0569-10ec-4d95-9594-82e67f67231f"
      },
      "source": [
        "#between sepal length and width\n",
        "plt.scatter(x[y == 0, 0], x[y == 0, 1], label = 'setosa')\n",
        "plt.scatter(x[y == 1, 0], x[y == 1, 1], label = 'versicolor')\n",
        "plt.scatter(x[y == 2, 0], x[y == 2, 1], label = 'virginica')\n",
        "plt.legend(loc='upper right') \n",
        "plt.xlabel('Sepal Length')\n",
        "plt.ylabel('Sepal Width')\n",
        "plt.show()"
      ],
      "execution_count": 13,
      "outputs": [
        {
          "output_type": "display_data",
          "data": {
            "image/png": "[encoded data removed]",
            "text/plain": [
              "<Figure size 432x288 with 1 Axes>"
            ]
          },
          "metadata": {
            "tags": [],
            "needs_background": "light"
          }
        }
      ]
    },
    {
      "cell_type": "code",
      "metadata": {
        "colab": {
          "base_uri": "https://localhost:8080/",
          "height": 279
        },
        "id": "h42Shh6wxaOD",
        "outputId": "cb55bfbb-6b5c-42fa-8762-f769a6dfadf2"
      },
      "source": [
        "#between petal length and width\n",
        "plt.scatter(x[y == 0, 2], x[y == 0, 3], label = 'setosa')\n",
        "plt.scatter(x[y == 1, 2], x[y == 1, 3], label = 'versicolor')\n",
        "plt.scatter(x[y == 2, 2], x[y == 2, 3], label = 'virginica')\n",
        "plt.legend(loc='lower right') \n",
        "plt.xlabel('Petal Length')\n",
        "plt.ylabel('Petal Width')\n",
        "plt.show()"
      ],
      "execution_count": 14,
      "outputs": [
        {
          "output_type": "display_data",
          "data": {
            "image/png": "[encoded data removed]",
            "text/plain": [
              "<Figure size 432x288 with 1 Axes>"
            ]
          },
          "metadata": {
            "tags": [],
            "needs_background": "light"
          }
        }
      ]
    },
    {
      "cell_type": "markdown",
      "metadata": {
        "id": "rHPbg9oayCph"
      },
      "source": [
        "**Interpretation** : We can conclude that petal length and petal width are the better predictors since setosa is clearly seperable in the latter case."
      ]
    },
    {
      "cell_type": "markdown",
      "metadata": {
        "id": "AdzL424byRCx"
      },
      "source": [
        "\n",
        "## **To find the optimum number of clusters using k-Means Algorithm**"
      ]
    },
    {
      "cell_type": "code",
      "metadata": {
        "id": "P9LmlAGjybIR"
      },
      "source": [
        "from sklearn.cluster import KMeans"
      ],
      "execution_count": 15,
      "outputs": []
    },
    {
      "cell_type": "code",
      "metadata": {
        "id": "Zu0GAwbqygAQ"
      },
      "source": [
        "# Experimenting with some values of 'K' to deduce the optimal value\n",
        "\n",
        "wcv = [] # within cluster variation which helps to find the optimum no of clusters\n",
        "\n",
        "for i in range(1, 16):\n",
        "    km = KMeans(n_clusters = i)\n",
        "    km.fit(x)\n",
        "    wcv.append(km.inertia_) # calculates wcv"
      ],
      "execution_count": 17,
      "outputs": []
    },
    {
      "cell_type": "code",
      "metadata": {
        "colab": {
          "base_uri": "https://localhost:8080/",
          "height": 295
        },
        "id": "kKC0ZAgIysUz",
        "outputId": "0ea4dba3-1512-4797-e0f2-f867bddde4ee"
      },
      "source": [
        "#  plotting a graph which shows the 'elbow' i.e. a point after the graph changes from exponential to linear\n",
        "    \n",
        "plt.plot(range(1, 16), wcv)\n",
        "plt.title('The elbow method')\n",
        "plt.xlabel('Number of clusters')\n",
        "plt.ylabel('WCV') # within cluster variation also known as within cluster sum of squares\n",
        "plt.show()"
      ],
      "execution_count": 18,
      "outputs": [
        {
          "output_type": "display_data",
          "data": {
            "image/png": "[encoded data removed]",
            "text/plain": [
              "<Figure size 432x288 with 1 Axes>"
            ]
          },
          "metadata": {
            "tags": [],
            "needs_background": "light"
          }
        }
      ]
    },
    {
      "cell_type": "markdown",
      "metadata": {
        "id": "f4rbDCY3y28l"
      },
      "source": [
        "**Interpretation** : From the graph , we can conclude that the elbow point is 3 which is the optimum number of clusters."
      ]
    },
    {
      "cell_type": "code",
      "metadata": {
        "colab": {
          "base_uri": "https://localhost:8080/"
        },
        "id": "ITgKmDqwzHGs",
        "outputId": "0a8cc955-faaa-4c5b-c4c7-3ef26a249c57"
      },
      "source": [
        "# Creating the kmeans classifier\n",
        "km = KMeans(n_clusters = 3)\n",
        "y_pred = km.fit_predict(x)\n",
        "y_pred"
      ],
      "execution_count": 20,
      "outputs": [
        {
          "output_type": "execute_result",
          "data": {
            "text/plain": [
              "array([1, 1, 1, 1, 1, 1, 1, 1, 1, 1, 1, 1, 1, 1, 1, 1, 1, 1, 1, 1, 1, 1,\n",
              "       1, 1, 1, 1, 1, 1, 1, 1, 1, 1, 1, 1, 1, 1, 1, 1, 1, 1, 1, 1, 1, 1,\n",
              "       1, 1, 1, 1, 1, 1, 0, 0, 2, 0, 0, 0, 0, 0, 0, 0, 0, 0, 0, 0, 0, 0,\n",
              "       0, 0, 0, 0, 0, 0, 0, 0, 0, 0, 0, 2, 0, 0, 0, 0, 0, 0, 0, 0, 0, 0,\n",
              "       0, 0, 0, 0, 0, 0, 0, 0, 0, 0, 0, 0, 2, 0, 2, 2, 2, 2, 0, 2, 2, 2,\n",
              "       2, 2, 2, 0, 0, 2, 2, 2, 2, 0, 2, 0, 2, 0, 2, 2, 0, 0, 2, 2, 2, 2,\n",
              "       2, 0, 2, 2, 2, 2, 0, 2, 2, 2, 0, 2, 2, 2, 0, 2, 2, 0], dtype=int32)"
            ]
          },
          "metadata": {
            "tags": []
          },
          "execution_count": 20
        }
      ]
    },
    {
      "cell_type": "code",
      "metadata": {
        "colab": {
          "base_uri": "https://localhost:8080/",
          "height": 195
        },
        "id": "YiF-4_TBzNvp",
        "outputId": "29fe7b10-ba04-4eee-88b1-1b0524c47ea8"
      },
      "source": [
        "iris['clusters']=y_pred\n",
        "iris.head()"
      ],
      "execution_count": 21,
      "outputs": [
        {
          "output_type": "execute_result",
          "data": {
            "text/html": [
              "<div>\n",
              "<style scoped>\n",
              "    .dataframe tbody tr th:only-of-type {\n",
              "        vertical-align: middle;\n",
              "    }\n",
              "\n",
              "    .dataframe tbody tr th {\n",
              "        vertical-align: top;\n",
              "    }\n",
              "\n",
              "    .dataframe thead th {\n",
              "        text-align: right;\n",
              "    }\n",
              "</style>\n",
              "<table border=\"1\" class=\"dataframe\">\n",
              "  <thead>\n",
              "    <tr style=\"text-align: right;\">\n",
              "      <th></th>\n",
              "      <th>sepal length (cm)</th>\n",
              "      <th>sepal width (cm)</th>\n",
              "      <th>petal length (cm)</th>\n",
              "      <th>petal width (cm)</th>\n",
              "      <th>clusters</th>\n",
              "    </tr>\n",
              "  </thead>\n",
              "  <tbody>\n",
              "    <tr>\n",
              "      <th>0</th>\n",
              "      <td>5.1</td>\n",
              "      <td>3.5</td>\n",
              "      <td>1.4</td>\n",
              "      <td>0.2</td>\n",
              "      <td>1</td>\n",
              "    </tr>\n",
              "    <tr>\n",
              "      <th>1</th>\n",
              "      <td>4.9</td>\n",
              "      <td>3.0</td>\n",
              "      <td>1.4</td>\n",
              "      <td>0.2</td>\n",
              "      <td>1</td>\n",
              "    </tr>\n",
              "    <tr>\n",
              "      <th>2</th>\n",
              "      <td>4.7</td>\n",
              "      <td>3.2</td>\n",
              "      <td>1.3</td>\n",
              "      <td>0.2</td>\n",
              "      <td>1</td>\n",
              "    </tr>\n",
              "    <tr>\n",
              "      <th>3</th>\n",
              "      <td>4.6</td>\n",
              "      <td>3.1</td>\n",
              "      <td>1.5</td>\n",
              "      <td>0.2</td>\n",
              "      <td>1</td>\n",
              "    </tr>\n",
              "    <tr>\n",
              "      <th>4</th>\n",
              "      <td>5.0</td>\n",
              "      <td>3.6</td>\n",
              "      <td>1.4</td>\n",
              "      <td>0.2</td>\n",
              "      <td>1</td>\n",
              "    </tr>\n",
              "  </tbody>\n",
              "</table>\n",
              "</div>"
            ],
            "text/plain": [
              "   sepal length (cm)  sepal width (cm)  ...  petal width (cm)  clusters\n",
              "0                5.1               3.5  ...               0.2         1\n",
              "1                4.9               3.0  ...               0.2         1\n",
              "2                4.7               3.2  ...               0.2         1\n",
              "3                4.6               3.1  ...               0.2         1\n",
              "4                5.0               3.6  ...               0.2         1\n",
              "\n",
              "[5 rows x 5 columns]"
            ]
          },
          "metadata": {
            "tags": []
          },
          "execution_count": 21
        }
      ]
    },
    {
      "cell_type": "markdown",
      "metadata": {
        "id": "488uI6byzSaZ"
      },
      "source": [
        "**Visualizing the clusters of sepal length and width**"
      ]
    },
    {
      "cell_type": "code",
      "metadata": {
        "colab": {
          "base_uri": "https://localhost:8080/",
          "height": 282
        },
        "id": "4gFPSRHizV0x",
        "outputId": "f3f55fa3-2f4d-49d6-b38e-4a253d9b9dcb"
      },
      "source": [
        "plt.scatter(x[y_pred == 0, 0], x[y_pred == 0, 1], label = 'versicolor')\n",
        "plt.scatter(x[y_pred == 1, 0], x[y_pred == 1, 1], label = 'setosa')\n",
        "plt.scatter(x[y_pred == 2, 0], x[y_pred == 2, 1], label = 'virginica')\n",
        "\n",
        "# Plotting the centroids.\n",
        "\n",
        "plt.scatter(km.cluster_centers_[:, 0], km.cluster_centers_[:,1], label = 'Centroids')\n",
        "plt.legend(loc='upper right') \n",
        "plt.xlabel('Sepal Length')\n",
        "plt.ylabel('Sepal Width')\n",
        "plt.show()\n"
      ],
      "execution_count": 26,
      "outputs": [
        {
          "output_type": "display_data",
          "data": {
            "image/png": "[encoded data removed]",
            "text/plain": [
              "<Figure size 432x288 with 1 Axes>"
            ]
          },
          "metadata": {
            "tags": [],
            "needs_background": "light"
          }
        }
      ]
    },
    {
      "cell_type": "markdown",
      "metadata": {
        "id": "cVskbzVkz2mk"
      },
      "source": [
        "**Visualizing the clusters of petal length and width**"
      ]
    },
    {
      "cell_type": "code",
      "metadata": {
        "colab": {
          "base_uri": "https://localhost:8080/",
          "height": 279
        },
        "id": "EJfVvhiAz4zd",
        "outputId": "76076565-cb30-4b9a-e852-5d78540c4594"
      },
      "source": [
        "plt.scatter(x[y_pred == 0, 2], x[y_pred == 0, 3], label = 'versicolor')\n",
        "plt.scatter(x[y_pred == 1, 2], x[y_pred == 1, 3], label = 'setosa')\n",
        "plt.scatter(x[y_pred == 2, 2], x[y_pred == 2, 3], label = 'virginica')\n",
        "\n",
        "# Plotting the centroids. This time we're going to use the cluster centres \n",
        "\n",
        "plt.scatter(km.cluster_centers_[:, 2], km.cluster_centers_[:,3], label = 'Centroids')\n",
        "plt.legend(loc='lower right') \n",
        "plt.xlabel('Petal Length')\n",
        "plt.ylabel('Petal Width')\n",
        "plt.show()"
      ],
      "execution_count": 28,
      "outputs": [
        {
          "output_type": "display_data",
          "data": {
            "image/png": "[encoded data removed]",
            "text/plain": [
              "<Figure size 432x288 with 1 Axes>"
            ]
          },
          "metadata": {
            "tags": [],
            "needs_background": "light"
          }
        }
      ]
    },
    {
      "cell_type": "markdown",
      "metadata": {
        "id": "JuG1CFxw0EQp"
      },
      "source": [
        "**Conclusion**:  The optimum number of clusters is predicted to be **3** and also we visualized them using scatter plot."
      ]
    },
    {
      "cell_type": "markdown",
      "metadata": {
        "id": "9RuUrK560fEK"
      },
      "source": [
        "# **Thank you**"
      ]
    }
  ]
}